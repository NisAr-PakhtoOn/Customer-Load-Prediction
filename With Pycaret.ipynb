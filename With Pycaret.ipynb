{
 "cells": [
  {
   "cell_type": "code",
   "execution_count": 2,
   "id": "89be9983",
   "metadata": {},
   "outputs": [],
   "source": [
    "from pycaret.classification import *\n",
    "import pandas as pd"
   ]
  },
  {
   "cell_type": "code",
   "execution_count": 5,
   "id": "a7bec1f5",
   "metadata": {},
   "outputs": [
    {
     "data": {
      "text/html": [
       "<div><div id=3fbfa47c-6e0d-45bb-a52b-6bee6adfa9ae style=\"display:none; background-color:#9D6CFF; color:white; width:200px; height:30px; padding-left:5px; border-radius:4px; flex-direction:row; justify-content:space-around; align-items:center;\" onmouseover=\"this.style.backgroundColor='#BA9BF8'\" onmouseout=\"this.style.backgroundColor='#9D6CFF'\" onclick=\"window.commands?.execute('create-mitosheet-from-dataframe-output');\">See Full Dataframe in Mito</div> <script> if (window.commands?.hasCommand('create-mitosheet-from-dataframe-output')) document.getElementById('3fbfa47c-6e0d-45bb-a52b-6bee6adfa9ae').style.display = 'flex' </script> <table border=\"1\" class=\"dataframe\">\n",
       "  <thead>\n",
       "    <tr style=\"text-align: right;\">\n",
       "      <th></th>\n",
       "      <th>age</th>\n",
       "      <th>current_occupation</th>\n",
       "      <th>first_interaction</th>\n",
       "      <th>profile_completed</th>\n",
       "      <th>website_visits</th>\n",
       "      <th>time_spent_on_website</th>\n",
       "      <th>page_views_per_visit</th>\n",
       "      <th>last_activity</th>\n",
       "      <th>print_media_type1</th>\n",
       "      <th>print_media_type2</th>\n",
       "      <th>digital_media</th>\n",
       "      <th>educational_channels</th>\n",
       "      <th>referral</th>\n",
       "      <th>status</th>\n",
       "    </tr>\n",
       "  </thead>\n",
       "  <tbody>\n",
       "    <tr>\n",
       "      <th>0</th>\n",
       "      <td>57</td>\n",
       "      <td>Unemployed</td>\n",
       "      <td>Website</td>\n",
       "      <td>High</td>\n",
       "      <td>7</td>\n",
       "      <td>1639</td>\n",
       "      <td>1.861</td>\n",
       "      <td>Website Activity</td>\n",
       "      <td>Yes</td>\n",
       "      <td>No</td>\n",
       "      <td>Yes</td>\n",
       "      <td>No</td>\n",
       "      <td>No</td>\n",
       "      <td>1</td>\n",
       "    </tr>\n",
       "    <tr>\n",
       "      <th>1</th>\n",
       "      <td>56</td>\n",
       "      <td>Professional</td>\n",
       "      <td>Mobile App</td>\n",
       "      <td>Medium</td>\n",
       "      <td>2</td>\n",
       "      <td>83</td>\n",
       "      <td>0.320</td>\n",
       "      <td>Website Activity</td>\n",
       "      <td>No</td>\n",
       "      <td>No</td>\n",
       "      <td>No</td>\n",
       "      <td>Yes</td>\n",
       "      <td>No</td>\n",
       "      <td>0</td>\n",
       "    </tr>\n",
       "    <tr>\n",
       "      <th>2</th>\n",
       "      <td>52</td>\n",
       "      <td>Professional</td>\n",
       "      <td>Website</td>\n",
       "      <td>Medium</td>\n",
       "      <td>3</td>\n",
       "      <td>330</td>\n",
       "      <td>0.074</td>\n",
       "      <td>Website Activity</td>\n",
       "      <td>No</td>\n",
       "      <td>No</td>\n",
       "      <td>Yes</td>\n",
       "      <td>No</td>\n",
       "      <td>No</td>\n",
       "      <td>0</td>\n",
       "    </tr>\n",
       "    <tr>\n",
       "      <th>3</th>\n",
       "      <td>53</td>\n",
       "      <td>Unemployed</td>\n",
       "      <td>Website</td>\n",
       "      <td>High</td>\n",
       "      <td>4</td>\n",
       "      <td>464</td>\n",
       "      <td>2.057</td>\n",
       "      <td>Website Activity</td>\n",
       "      <td>No</td>\n",
       "      <td>No</td>\n",
       "      <td>No</td>\n",
       "      <td>No</td>\n",
       "      <td>No</td>\n",
       "      <td>1</td>\n",
       "    </tr>\n",
       "    <tr>\n",
       "      <th>4</th>\n",
       "      <td>23</td>\n",
       "      <td>Student</td>\n",
       "      <td>Website</td>\n",
       "      <td>High</td>\n",
       "      <td>4</td>\n",
       "      <td>600</td>\n",
       "      <td>16.914</td>\n",
       "      <td>Email Activity</td>\n",
       "      <td>No</td>\n",
       "      <td>No</td>\n",
       "      <td>No</td>\n",
       "      <td>No</td>\n",
       "      <td>No</td>\n",
       "      <td>0</td>\n",
       "    </tr>\n",
       "  </tbody>\n",
       "</table></div>"
      ],
      "text/plain": [
       "   age current_occupation first_interaction profile_completed  website_visits  \\\n",
       "0   57         Unemployed           Website              High               7   \n",
       "1   56       Professional        Mobile App            Medium               2   \n",
       "2   52       Professional           Website            Medium               3   \n",
       "3   53         Unemployed           Website              High               4   \n",
       "4   23            Student           Website              High               4   \n",
       "\n",
       "   time_spent_on_website  page_views_per_visit     last_activity  \\\n",
       "0                   1639                 1.861  Website Activity   \n",
       "1                     83                 0.320  Website Activity   \n",
       "2                    330                 0.074  Website Activity   \n",
       "3                    464                 2.057  Website Activity   \n",
       "4                    600                16.914    Email Activity   \n",
       "\n",
       "  print_media_type1 print_media_type2 digital_media educational_channels  \\\n",
       "0               Yes                No           Yes                   No   \n",
       "1                No                No            No                  Yes   \n",
       "2                No                No           Yes                   No   \n",
       "3                No                No            No                   No   \n",
       "4                No                No            No                   No   \n",
       "\n",
       "  referral  status  \n",
       "0       No       1  \n",
       "1       No       0  \n",
       "2       No       0  \n",
       "3       No       1  \n",
       "4       No       0  "
      ]
     },
     "execution_count": 5,
     "metadata": {},
     "output_type": "execute_result"
    }
   ],
   "source": [
    "data = pd.read_csv('data.csv')\n",
    "data = data.drop('ID', axis = 1)\n",
    "data.head()"
   ]
  },
  {
   "cell_type": "code",
   "execution_count": 6,
   "id": "10905e85",
   "metadata": {},
   "outputs": [
    {
     "name": "stdout",
     "output_type": "stream",
     "text": [
      "Warning: No categorical columns found. Calling 'transform' will only return input data.\n"
     ]
    },
    {
     "data": {
      "text/html": [
       "<style type=\"text/css\">\n",
       "#T_ed1cd_row10_col1 {\n",
       "  background-color: lightgreen;\n",
       "}\n",
       "</style>\n",
       "<table id=\"T_ed1cd\">\n",
       "  <thead>\n",
       "    <tr>\n",
       "      <th class=\"blank level0\" >&nbsp;</th>\n",
       "      <th id=\"T_ed1cd_level0_col0\" class=\"col_heading level0 col0\" >Description</th>\n",
       "      <th id=\"T_ed1cd_level0_col1\" class=\"col_heading level0 col1\" >Value</th>\n",
       "    </tr>\n",
       "  </thead>\n",
       "  <tbody>\n",
       "    <tr>\n",
       "      <th id=\"T_ed1cd_level0_row0\" class=\"row_heading level0 row0\" >0</th>\n",
       "      <td id=\"T_ed1cd_row0_col0\" class=\"data row0 col0\" >Session id</td>\n",
       "      <td id=\"T_ed1cd_row0_col1\" class=\"data row0 col1\" >123</td>\n",
       "    </tr>\n",
       "    <tr>\n",
       "      <th id=\"T_ed1cd_level0_row1\" class=\"row_heading level0 row1\" >1</th>\n",
       "      <td id=\"T_ed1cd_row1_col0\" class=\"data row1 col0\" >Target</td>\n",
       "      <td id=\"T_ed1cd_row1_col1\" class=\"data row1 col1\" >status</td>\n",
       "    </tr>\n",
       "    <tr>\n",
       "      <th id=\"T_ed1cd_level0_row2\" class=\"row_heading level0 row2\" >2</th>\n",
       "      <td id=\"T_ed1cd_row2_col0\" class=\"data row2 col0\" >Target type</td>\n",
       "      <td id=\"T_ed1cd_row2_col1\" class=\"data row2 col1\" >Binary</td>\n",
       "    </tr>\n",
       "    <tr>\n",
       "      <th id=\"T_ed1cd_level0_row3\" class=\"row_heading level0 row3\" >3</th>\n",
       "      <td id=\"T_ed1cd_row3_col0\" class=\"data row3 col0\" >Original data shape</td>\n",
       "      <td id=\"T_ed1cd_row3_col1\" class=\"data row3 col1\" >(4612, 14)</td>\n",
       "    </tr>\n",
       "    <tr>\n",
       "      <th id=\"T_ed1cd_level0_row4\" class=\"row_heading level0 row4\" >4</th>\n",
       "      <td id=\"T_ed1cd_row4_col0\" class=\"data row4 col0\" >Transformed data shape</td>\n",
       "      <td id=\"T_ed1cd_row4_col1\" class=\"data row4 col1\" >(4612, 20)</td>\n",
       "    </tr>\n",
       "    <tr>\n",
       "      <th id=\"T_ed1cd_level0_row5\" class=\"row_heading level0 row5\" >5</th>\n",
       "      <td id=\"T_ed1cd_row5_col0\" class=\"data row5 col0\" >Transformed train set shape</td>\n",
       "      <td id=\"T_ed1cd_row5_col1\" class=\"data row5 col1\" >(3228, 20)</td>\n",
       "    </tr>\n",
       "    <tr>\n",
       "      <th id=\"T_ed1cd_level0_row6\" class=\"row_heading level0 row6\" >6</th>\n",
       "      <td id=\"T_ed1cd_row6_col0\" class=\"data row6 col0\" >Transformed test set shape</td>\n",
       "      <td id=\"T_ed1cd_row6_col1\" class=\"data row6 col1\" >(1384, 20)</td>\n",
       "    </tr>\n",
       "    <tr>\n",
       "      <th id=\"T_ed1cd_level0_row7\" class=\"row_heading level0 row7\" >7</th>\n",
       "      <td id=\"T_ed1cd_row7_col0\" class=\"data row7 col0\" >Ordinal features</td>\n",
       "      <td id=\"T_ed1cd_row7_col1\" class=\"data row7 col1\" >6</td>\n",
       "    </tr>\n",
       "    <tr>\n",
       "      <th id=\"T_ed1cd_level0_row8\" class=\"row_heading level0 row8\" >8</th>\n",
       "      <td id=\"T_ed1cd_row8_col0\" class=\"data row8 col0\" >Numeric features</td>\n",
       "      <td id=\"T_ed1cd_row8_col1\" class=\"data row8 col1\" >4</td>\n",
       "    </tr>\n",
       "    <tr>\n",
       "      <th id=\"T_ed1cd_level0_row9\" class=\"row_heading level0 row9\" >9</th>\n",
       "      <td id=\"T_ed1cd_row9_col0\" class=\"data row9 col0\" >Categorical features</td>\n",
       "      <td id=\"T_ed1cd_row9_col1\" class=\"data row9 col1\" >9</td>\n",
       "    </tr>\n",
       "    <tr>\n",
       "      <th id=\"T_ed1cd_level0_row10\" class=\"row_heading level0 row10\" >10</th>\n",
       "      <td id=\"T_ed1cd_row10_col0\" class=\"data row10 col0\" >Preprocess</td>\n",
       "      <td id=\"T_ed1cd_row10_col1\" class=\"data row10 col1\" >True</td>\n",
       "    </tr>\n",
       "    <tr>\n",
       "      <th id=\"T_ed1cd_level0_row11\" class=\"row_heading level0 row11\" >11</th>\n",
       "      <td id=\"T_ed1cd_row11_col0\" class=\"data row11 col0\" >Imputation type</td>\n",
       "      <td id=\"T_ed1cd_row11_col1\" class=\"data row11 col1\" >simple</td>\n",
       "    </tr>\n",
       "    <tr>\n",
       "      <th id=\"T_ed1cd_level0_row12\" class=\"row_heading level0 row12\" >12</th>\n",
       "      <td id=\"T_ed1cd_row12_col0\" class=\"data row12 col0\" >Numeric imputation</td>\n",
       "      <td id=\"T_ed1cd_row12_col1\" class=\"data row12 col1\" >mean</td>\n",
       "    </tr>\n",
       "    <tr>\n",
       "      <th id=\"T_ed1cd_level0_row13\" class=\"row_heading level0 row13\" >13</th>\n",
       "      <td id=\"T_ed1cd_row13_col0\" class=\"data row13 col0\" >Categorical imputation</td>\n",
       "      <td id=\"T_ed1cd_row13_col1\" class=\"data row13 col1\" >constant</td>\n",
       "    </tr>\n",
       "    <tr>\n",
       "      <th id=\"T_ed1cd_level0_row14\" class=\"row_heading level0 row14\" >14</th>\n",
       "      <td id=\"T_ed1cd_row14_col0\" class=\"data row14 col0\" >Maximum one-hot encoding</td>\n",
       "      <td id=\"T_ed1cd_row14_col1\" class=\"data row14 col1\" >5</td>\n",
       "    </tr>\n",
       "    <tr>\n",
       "      <th id=\"T_ed1cd_level0_row15\" class=\"row_heading level0 row15\" >15</th>\n",
       "      <td id=\"T_ed1cd_row15_col0\" class=\"data row15 col0\" >Encoding method</td>\n",
       "      <td id=\"T_ed1cd_row15_col1\" class=\"data row15 col1\" >None</td>\n",
       "    </tr>\n",
       "    <tr>\n",
       "      <th id=\"T_ed1cd_level0_row16\" class=\"row_heading level0 row16\" >16</th>\n",
       "      <td id=\"T_ed1cd_row16_col0\" class=\"data row16 col0\" >Low variance threshold</td>\n",
       "      <td id=\"T_ed1cd_row16_col1\" class=\"data row16 col1\" >0</td>\n",
       "    </tr>\n",
       "    <tr>\n",
       "      <th id=\"T_ed1cd_level0_row17\" class=\"row_heading level0 row17\" >17</th>\n",
       "      <td id=\"T_ed1cd_row17_col0\" class=\"data row17 col0\" >Fold Generator</td>\n",
       "      <td id=\"T_ed1cd_row17_col1\" class=\"data row17 col1\" >StratifiedKFold</td>\n",
       "    </tr>\n",
       "    <tr>\n",
       "      <th id=\"T_ed1cd_level0_row18\" class=\"row_heading level0 row18\" >18</th>\n",
       "      <td id=\"T_ed1cd_row18_col0\" class=\"data row18 col0\" >Fold Number</td>\n",
       "      <td id=\"T_ed1cd_row18_col1\" class=\"data row18 col1\" >10</td>\n",
       "    </tr>\n",
       "    <tr>\n",
       "      <th id=\"T_ed1cd_level0_row19\" class=\"row_heading level0 row19\" >19</th>\n",
       "      <td id=\"T_ed1cd_row19_col0\" class=\"data row19 col0\" >CPU Jobs</td>\n",
       "      <td id=\"T_ed1cd_row19_col1\" class=\"data row19 col1\" >-1</td>\n",
       "    </tr>\n",
       "    <tr>\n",
       "      <th id=\"T_ed1cd_level0_row20\" class=\"row_heading level0 row20\" >20</th>\n",
       "      <td id=\"T_ed1cd_row20_col0\" class=\"data row20 col0\" >Use GPU</td>\n",
       "      <td id=\"T_ed1cd_row20_col1\" class=\"data row20 col1\" >False</td>\n",
       "    </tr>\n",
       "    <tr>\n",
       "      <th id=\"T_ed1cd_level0_row21\" class=\"row_heading level0 row21\" >21</th>\n",
       "      <td id=\"T_ed1cd_row21_col0\" class=\"data row21 col0\" >Log Experiment</td>\n",
       "      <td id=\"T_ed1cd_row21_col1\" class=\"data row21 col1\" >False</td>\n",
       "    </tr>\n",
       "    <tr>\n",
       "      <th id=\"T_ed1cd_level0_row22\" class=\"row_heading level0 row22\" >22</th>\n",
       "      <td id=\"T_ed1cd_row22_col0\" class=\"data row22 col0\" >Experiment Name</td>\n",
       "      <td id=\"T_ed1cd_row22_col1\" class=\"data row22 col1\" >clf-default-name</td>\n",
       "    </tr>\n",
       "    <tr>\n",
       "      <th id=\"T_ed1cd_level0_row23\" class=\"row_heading level0 row23\" >23</th>\n",
       "      <td id=\"T_ed1cd_row23_col0\" class=\"data row23 col0\" >USI</td>\n",
       "      <td id=\"T_ed1cd_row23_col1\" class=\"data row23 col1\" >898d</td>\n",
       "    </tr>\n",
       "  </tbody>\n",
       "</table>\n"
      ],
      "text/plain": [
       "<pandas.io.formats.style.Styler at 0x19c9cd632e0>"
      ]
     },
     "metadata": {},
     "output_type": "display_data"
    }
   ],
   "source": [
    "s = setup(data = data, target = 'status', session_id=123)"
   ]
  },
  {
   "cell_type": "code",
   "execution_count": 7,
   "id": "90ac2583",
   "metadata": {},
   "outputs": [
    {
     "data": {
      "text/html": [],
      "text/plain": [
       "<IPython.core.display.HTML object>"
      ]
     },
     "metadata": {},
     "output_type": "display_data"
    },
    {
     "data": {
      "text/html": [
       "<style type=\"text/css\">\n",
       "#T_5f194 th {\n",
       "  text-align: left;\n",
       "}\n",
       "#T_5f194_row0_col0, #T_5f194_row1_col0, #T_5f194_row1_col1, #T_5f194_row1_col2, #T_5f194_row1_col3, #T_5f194_row1_col4, #T_5f194_row1_col5, #T_5f194_row1_col6, #T_5f194_row1_col7, #T_5f194_row2_col0, #T_5f194_row2_col1, #T_5f194_row2_col2, #T_5f194_row2_col4, #T_5f194_row2_col5, #T_5f194_row2_col6, #T_5f194_row2_col7, #T_5f194_row3_col0, #T_5f194_row3_col1, #T_5f194_row3_col2, #T_5f194_row3_col3, #T_5f194_row3_col4, #T_5f194_row3_col5, #T_5f194_row3_col6, #T_5f194_row3_col7, #T_5f194_row4_col0, #T_5f194_row4_col1, #T_5f194_row4_col2, #T_5f194_row4_col3, #T_5f194_row4_col4, #T_5f194_row4_col5, #T_5f194_row4_col6, #T_5f194_row4_col7, #T_5f194_row5_col0, #T_5f194_row5_col1, #T_5f194_row5_col2, #T_5f194_row5_col3, #T_5f194_row5_col4, #T_5f194_row5_col5, #T_5f194_row5_col6, #T_5f194_row5_col7, #T_5f194_row6_col0, #T_5f194_row6_col1, #T_5f194_row6_col2, #T_5f194_row6_col3, #T_5f194_row6_col4, #T_5f194_row6_col5, #T_5f194_row6_col6, #T_5f194_row6_col7, #T_5f194_row7_col0, #T_5f194_row7_col1, #T_5f194_row7_col2, #T_5f194_row7_col3, #T_5f194_row7_col4, #T_5f194_row7_col5, #T_5f194_row7_col6, #T_5f194_row7_col7, #T_5f194_row8_col0, #T_5f194_row8_col1, #T_5f194_row8_col2, #T_5f194_row8_col3, #T_5f194_row8_col4, #T_5f194_row8_col5, #T_5f194_row8_col6, #T_5f194_row8_col7, #T_5f194_row9_col0, #T_5f194_row9_col1, #T_5f194_row9_col2, #T_5f194_row9_col3, #T_5f194_row9_col4, #T_5f194_row9_col5, #T_5f194_row9_col6, #T_5f194_row9_col7, #T_5f194_row10_col0, #T_5f194_row10_col1, #T_5f194_row10_col2, #T_5f194_row10_col3, #T_5f194_row10_col4, #T_5f194_row10_col5, #T_5f194_row10_col6, #T_5f194_row10_col7, #T_5f194_row11_col0, #T_5f194_row11_col1, #T_5f194_row11_col2, #T_5f194_row11_col3, #T_5f194_row11_col4, #T_5f194_row11_col5, #T_5f194_row11_col6, #T_5f194_row11_col7, #T_5f194_row12_col0, #T_5f194_row12_col1, #T_5f194_row12_col2, #T_5f194_row12_col3, #T_5f194_row12_col4, #T_5f194_row12_col5, #T_5f194_row12_col6, #T_5f194_row12_col7, #T_5f194_row13_col0, #T_5f194_row13_col1, #T_5f194_row13_col2, #T_5f194_row13_col3, #T_5f194_row13_col4, #T_5f194_row13_col5, #T_5f194_row13_col6, #T_5f194_row13_col7, #T_5f194_row14_col0, #T_5f194_row14_col1, #T_5f194_row14_col2, #T_5f194_row14_col3, #T_5f194_row14_col4, #T_5f194_row14_col5, #T_5f194_row14_col6, #T_5f194_row14_col7 {\n",
       "  text-align: left;\n",
       "}\n",
       "#T_5f194_row0_col1, #T_5f194_row0_col2, #T_5f194_row0_col3, #T_5f194_row0_col4, #T_5f194_row0_col5, #T_5f194_row0_col6, #T_5f194_row0_col7, #T_5f194_row2_col3 {\n",
       "  text-align: left;\n",
       "  background-color: yellow;\n",
       "}\n",
       "#T_5f194_row0_col8, #T_5f194_row1_col8, #T_5f194_row2_col8, #T_5f194_row3_col8, #T_5f194_row4_col8, #T_5f194_row5_col8, #T_5f194_row6_col8, #T_5f194_row7_col8, #T_5f194_row8_col8, #T_5f194_row9_col8, #T_5f194_row11_col8, #T_5f194_row12_col8, #T_5f194_row13_col8, #T_5f194_row14_col8 {\n",
       "  text-align: left;\n",
       "  background-color: lightgrey;\n",
       "}\n",
       "#T_5f194_row10_col8 {\n",
       "  text-align: left;\n",
       "  background-color: yellow;\n",
       "  background-color: lightgrey;\n",
       "}\n",
       "</style>\n",
       "<table id=\"T_5f194\">\n",
       "  <thead>\n",
       "    <tr>\n",
       "      <th class=\"blank level0\" >&nbsp;</th>\n",
       "      <th id=\"T_5f194_level0_col0\" class=\"col_heading level0 col0\" >Model</th>\n",
       "      <th id=\"T_5f194_level0_col1\" class=\"col_heading level0 col1\" >Accuracy</th>\n",
       "      <th id=\"T_5f194_level0_col2\" class=\"col_heading level0 col2\" >AUC</th>\n",
       "      <th id=\"T_5f194_level0_col3\" class=\"col_heading level0 col3\" >Recall</th>\n",
       "      <th id=\"T_5f194_level0_col4\" class=\"col_heading level0 col4\" >Prec.</th>\n",
       "      <th id=\"T_5f194_level0_col5\" class=\"col_heading level0 col5\" >F1</th>\n",
       "      <th id=\"T_5f194_level0_col6\" class=\"col_heading level0 col6\" >Kappa</th>\n",
       "      <th id=\"T_5f194_level0_col7\" class=\"col_heading level0 col7\" >MCC</th>\n",
       "      <th id=\"T_5f194_level0_col8\" class=\"col_heading level0 col8\" >TT (Sec)</th>\n",
       "    </tr>\n",
       "  </thead>\n",
       "  <tbody>\n",
       "    <tr>\n",
       "      <th id=\"T_5f194_level0_row0\" class=\"row_heading level0 row0\" >gbc</th>\n",
       "      <td id=\"T_5f194_row0_col0\" class=\"data row0 col0\" >Gradient Boosting Classifier</td>\n",
       "      <td id=\"T_5f194_row0_col1\" class=\"data row0 col1\" >0.8637</td>\n",
       "      <td id=\"T_5f194_row0_col2\" class=\"data row0 col2\" >0.9243</td>\n",
       "      <td id=\"T_5f194_row0_col3\" class=\"data row0 col3\" >0.7271</td>\n",
       "      <td id=\"T_5f194_row0_col4\" class=\"data row0 col4\" >0.7980</td>\n",
       "      <td id=\"T_5f194_row0_col5\" class=\"data row0 col5\" >0.7597</td>\n",
       "      <td id=\"T_5f194_row0_col6\" class=\"data row0 col6\" >0.6650</td>\n",
       "      <td id=\"T_5f194_row0_col7\" class=\"data row0 col7\" >0.6673</td>\n",
       "      <td id=\"T_5f194_row0_col8\" class=\"data row0 col8\" >0.2100</td>\n",
       "    </tr>\n",
       "    <tr>\n",
       "      <th id=\"T_5f194_level0_row1\" class=\"row_heading level0 row1\" >rf</th>\n",
       "      <td id=\"T_5f194_row1_col0\" class=\"data row1 col0\" >Random Forest Classifier</td>\n",
       "      <td id=\"T_5f194_row1_col1\" class=\"data row1 col1\" >0.8590</td>\n",
       "      <td id=\"T_5f194_row1_col2\" class=\"data row1 col2\" >0.9188</td>\n",
       "      <td id=\"T_5f194_row1_col3\" class=\"data row1 col3\" >0.7095</td>\n",
       "      <td id=\"T_5f194_row1_col4\" class=\"data row1 col4\" >0.7963</td>\n",
       "      <td id=\"T_5f194_row1_col5\" class=\"data row1 col5\" >0.7495</td>\n",
       "      <td id=\"T_5f194_row1_col6\" class=\"data row1 col6\" >0.6521</td>\n",
       "      <td id=\"T_5f194_row1_col7\" class=\"data row1 col7\" >0.6548</td>\n",
       "      <td id=\"T_5f194_row1_col8\" class=\"data row1 col8\" >0.2200</td>\n",
       "    </tr>\n",
       "    <tr>\n",
       "      <th id=\"T_5f194_level0_row2\" class=\"row_heading level0 row2\" >lightgbm</th>\n",
       "      <td id=\"T_5f194_row2_col0\" class=\"data row2 col0\" >Light Gradient Boosting Machine</td>\n",
       "      <td id=\"T_5f194_row2_col1\" class=\"data row2 col1\" >0.8547</td>\n",
       "      <td id=\"T_5f194_row2_col2\" class=\"data row2 col2\" >0.9214</td>\n",
       "      <td id=\"T_5f194_row2_col3\" class=\"data row2 col3\" >0.7271</td>\n",
       "      <td id=\"T_5f194_row2_col4\" class=\"data row2 col4\" >0.7730</td>\n",
       "      <td id=\"T_5f194_row2_col5\" class=\"data row2 col5\" >0.7487</td>\n",
       "      <td id=\"T_5f194_row2_col6\" class=\"data row2 col6\" >0.6468</td>\n",
       "      <td id=\"T_5f194_row2_col7\" class=\"data row2 col7\" >0.6479</td>\n",
       "      <td id=\"T_5f194_row2_col8\" class=\"data row2 col8\" >0.1350</td>\n",
       "    </tr>\n",
       "    <tr>\n",
       "      <th id=\"T_5f194_level0_row3\" class=\"row_heading level0 row3\" >xgboost</th>\n",
       "      <td id=\"T_5f194_row3_col0\" class=\"data row3 col0\" >Extreme Gradient Boosting</td>\n",
       "      <td id=\"T_5f194_row3_col1\" class=\"data row3 col1\" >0.8491</td>\n",
       "      <td id=\"T_5f194_row3_col2\" class=\"data row3 col2\" >0.9109</td>\n",
       "      <td id=\"T_5f194_row3_col3\" class=\"data row3 col3\" >0.7116</td>\n",
       "      <td id=\"T_5f194_row3_col4\" class=\"data row3 col4\" >0.7669</td>\n",
       "      <td id=\"T_5f194_row3_col5\" class=\"data row3 col5\" >0.7374</td>\n",
       "      <td id=\"T_5f194_row3_col6\" class=\"data row3 col6\" >0.6319</td>\n",
       "      <td id=\"T_5f194_row3_col7\" class=\"data row3 col7\" >0.6334</td>\n",
       "      <td id=\"T_5f194_row3_col8\" class=\"data row3 col8\" >0.2830</td>\n",
       "    </tr>\n",
       "    <tr>\n",
       "      <th id=\"T_5f194_level0_row4\" class=\"row_heading level0 row4\" >et</th>\n",
       "      <td id=\"T_5f194_row4_col0\" class=\"data row4 col0\" >Extra Trees Classifier</td>\n",
       "      <td id=\"T_5f194_row4_col1\" class=\"data row4 col1\" >0.8398</td>\n",
       "      <td id=\"T_5f194_row4_col2\" class=\"data row4 col2\" >0.8935</td>\n",
       "      <td id=\"T_5f194_row4_col3\" class=\"data row4 col3\" >0.6815</td>\n",
       "      <td id=\"T_5f194_row4_col4\" class=\"data row4 col4\" >0.7581</td>\n",
       "      <td id=\"T_5f194_row4_col5\" class=\"data row4 col5\" >0.7170</td>\n",
       "      <td id=\"T_5f194_row4_col6\" class=\"data row4 col6\" >0.6059</td>\n",
       "      <td id=\"T_5f194_row4_col7\" class=\"data row4 col7\" >0.6081</td>\n",
       "      <td id=\"T_5f194_row4_col8\" class=\"data row4 col8\" >0.2180</td>\n",
       "    </tr>\n",
       "    <tr>\n",
       "      <th id=\"T_5f194_level0_row5\" class=\"row_heading level0 row5\" >ada</th>\n",
       "      <td id=\"T_5f194_row5_col0\" class=\"data row5 col0\" >Ada Boost Classifier</td>\n",
       "      <td id=\"T_5f194_row5_col1\" class=\"data row5 col1\" >0.8234</td>\n",
       "      <td id=\"T_5f194_row5_col2\" class=\"data row5 col2\" >0.8851</td>\n",
       "      <td id=\"T_5f194_row5_col3\" class=\"data row5 col3\" >0.6463</td>\n",
       "      <td id=\"T_5f194_row5_col4\" class=\"data row5 col4\" >0.7311</td>\n",
       "      <td id=\"T_5f194_row5_col5\" class=\"data row5 col5\" >0.6853</td>\n",
       "      <td id=\"T_5f194_row5_col6\" class=\"data row5 col6\" >0.5634</td>\n",
       "      <td id=\"T_5f194_row5_col7\" class=\"data row5 col7\" >0.5660</td>\n",
       "      <td id=\"T_5f194_row5_col8\" class=\"data row5 col8\" >0.1490</td>\n",
       "    </tr>\n",
       "    <tr>\n",
       "      <th id=\"T_5f194_level0_row6\" class=\"row_heading level0 row6\" >lr</th>\n",
       "      <td id=\"T_5f194_row6_col0\" class=\"data row6 col0\" >Logistic Regression</td>\n",
       "      <td id=\"T_5f194_row6_col1\" class=\"data row6 col1\" >0.8216</td>\n",
       "      <td id=\"T_5f194_row6_col2\" class=\"data row6 col2\" >0.8701</td>\n",
       "      <td id=\"T_5f194_row6_col3\" class=\"data row6 col3\" >0.6328</td>\n",
       "      <td id=\"T_5f194_row6_col4\" class=\"data row6 col4\" >0.7339</td>\n",
       "      <td id=\"T_5f194_row6_col5\" class=\"data row6 col5\" >0.6786</td>\n",
       "      <td id=\"T_5f194_row6_col6\" class=\"data row6 col6\" >0.5562</td>\n",
       "      <td id=\"T_5f194_row6_col7\" class=\"data row6 col7\" >0.5598</td>\n",
       "      <td id=\"T_5f194_row6_col8\" class=\"data row6 col8\" >1.2320</td>\n",
       "    </tr>\n",
       "    <tr>\n",
       "      <th id=\"T_5f194_level0_row7\" class=\"row_heading level0 row7\" >lda</th>\n",
       "      <td id=\"T_5f194_row7_col0\" class=\"data row7 col0\" >Linear Discriminant Analysis</td>\n",
       "      <td id=\"T_5f194_row7_col1\" class=\"data row7 col1\" >0.8157</td>\n",
       "      <td id=\"T_5f194_row7_col2\" class=\"data row7 col2\" >0.8697</td>\n",
       "      <td id=\"T_5f194_row7_col3\" class=\"data row7 col3\" >0.6234</td>\n",
       "      <td id=\"T_5f194_row7_col4\" class=\"data row7 col4\" >0.7217</td>\n",
       "      <td id=\"T_5f194_row7_col5\" class=\"data row7 col5\" >0.6680</td>\n",
       "      <td id=\"T_5f194_row7_col6\" class=\"data row7 col6\" >0.5416</td>\n",
       "      <td id=\"T_5f194_row7_col7\" class=\"data row7 col7\" >0.5450</td>\n",
       "      <td id=\"T_5f194_row7_col8\" class=\"data row7 col8\" >0.0900</td>\n",
       "    </tr>\n",
       "    <tr>\n",
       "      <th id=\"T_5f194_level0_row8\" class=\"row_heading level0 row8\" >dt</th>\n",
       "      <td id=\"T_5f194_row8_col0\" class=\"data row8 col0\" >Decision Tree Classifier</td>\n",
       "      <td id=\"T_5f194_row8_col1\" class=\"data row8 col1\" >0.8135</td>\n",
       "      <td id=\"T_5f194_row8_col2\" class=\"data row8 col2\" >0.7764</td>\n",
       "      <td id=\"T_5f194_row8_col3\" class=\"data row8 col3\" >0.6816</td>\n",
       "      <td id=\"T_5f194_row8_col4\" class=\"data row8 col4\" >0.6906</td>\n",
       "      <td id=\"T_5f194_row8_col5\" class=\"data row8 col5\" >0.6839</td>\n",
       "      <td id=\"T_5f194_row8_col6\" class=\"data row8 col6\" >0.5520</td>\n",
       "      <td id=\"T_5f194_row8_col7\" class=\"data row8 col7\" >0.5537</td>\n",
       "      <td id=\"T_5f194_row8_col8\" class=\"data row8 col8\" >0.0900</td>\n",
       "    </tr>\n",
       "    <tr>\n",
       "      <th id=\"T_5f194_level0_row9\" class=\"row_heading level0 row9\" >ridge</th>\n",
       "      <td id=\"T_5f194_row9_col0\" class=\"data row9 col0\" >Ridge Classifier</td>\n",
       "      <td id=\"T_5f194_row9_col1\" class=\"data row9 col1\" >0.8095</td>\n",
       "      <td id=\"T_5f194_row9_col2\" class=\"data row9 col2\" >0.0000</td>\n",
       "      <td id=\"T_5f194_row9_col3\" class=\"data row9 col3\" >0.5809</td>\n",
       "      <td id=\"T_5f194_row9_col4\" class=\"data row9 col4\" >0.7267</td>\n",
       "      <td id=\"T_5f194_row9_col5\" class=\"data row9 col5\" >0.6444</td>\n",
       "      <td id=\"T_5f194_row9_col6\" class=\"data row9 col6\" >0.5168</td>\n",
       "      <td id=\"T_5f194_row9_col7\" class=\"data row9 col7\" >0.5236</td>\n",
       "      <td id=\"T_5f194_row9_col8\" class=\"data row9 col8\" >0.0750</td>\n",
       "    </tr>\n",
       "    <tr>\n",
       "      <th id=\"T_5f194_level0_row10\" class=\"row_heading level0 row10\" >nb</th>\n",
       "      <td id=\"T_5f194_row10_col0\" class=\"data row10 col0\" >Naive Bayes</td>\n",
       "      <td id=\"T_5f194_row10_col1\" class=\"data row10 col1\" >0.7996</td>\n",
       "      <td id=\"T_5f194_row10_col2\" class=\"data row10 col2\" >0.8361</td>\n",
       "      <td id=\"T_5f194_row10_col3\" class=\"data row10 col3\" >0.7199</td>\n",
       "      <td id=\"T_5f194_row10_col4\" class=\"data row10 col4\" >0.6496</td>\n",
       "      <td id=\"T_5f194_row10_col5\" class=\"data row10 col5\" >0.6819</td>\n",
       "      <td id=\"T_5f194_row10_col6\" class=\"data row10 col6\" >0.5364</td>\n",
       "      <td id=\"T_5f194_row10_col7\" class=\"data row10 col7\" >0.5389</td>\n",
       "      <td id=\"T_5f194_row10_col8\" class=\"data row10 col8\" >0.0740</td>\n",
       "    </tr>\n",
       "    <tr>\n",
       "      <th id=\"T_5f194_level0_row11\" class=\"row_heading level0 row11\" >knn</th>\n",
       "      <td id=\"T_5f194_row11_col0\" class=\"data row11 col0\" >K Neighbors Classifier</td>\n",
       "      <td id=\"T_5f194_row11_col1\" class=\"data row11 col1\" >0.7060</td>\n",
       "      <td id=\"T_5f194_row11_col2\" class=\"data row11 col2\" >0.6927</td>\n",
       "      <td id=\"T_5f194_row11_col3\" class=\"data row11 col3\" >0.4161</td>\n",
       "      <td id=\"T_5f194_row11_col4\" class=\"data row11 col4\" >0.5099</td>\n",
       "      <td id=\"T_5f194_row11_col5\" class=\"data row11 col5\" >0.4573</td>\n",
       "      <td id=\"T_5f194_row11_col6\" class=\"data row11 col6\" >0.2589</td>\n",
       "      <td id=\"T_5f194_row11_col7\" class=\"data row11 col7\" >0.2619</td>\n",
       "      <td id=\"T_5f194_row11_col8\" class=\"data row11 col8\" >0.1050</td>\n",
       "    </tr>\n",
       "    <tr>\n",
       "      <th id=\"T_5f194_level0_row12\" class=\"row_heading level0 row12\" >dummy</th>\n",
       "      <td id=\"T_5f194_row12_col0\" class=\"data row12 col0\" >Dummy Classifier</td>\n",
       "      <td id=\"T_5f194_row12_col1\" class=\"data row12 col1\" >0.7014</td>\n",
       "      <td id=\"T_5f194_row12_col2\" class=\"data row12 col2\" >0.5000</td>\n",
       "      <td id=\"T_5f194_row12_col3\" class=\"data row12 col3\" >0.0000</td>\n",
       "      <td id=\"T_5f194_row12_col4\" class=\"data row12 col4\" >0.0000</td>\n",
       "      <td id=\"T_5f194_row12_col5\" class=\"data row12 col5\" >0.0000</td>\n",
       "      <td id=\"T_5f194_row12_col6\" class=\"data row12 col6\" >0.0000</td>\n",
       "      <td id=\"T_5f194_row12_col7\" class=\"data row12 col7\" >0.0000</td>\n",
       "      <td id=\"T_5f194_row12_col8\" class=\"data row12 col8\" >0.0920</td>\n",
       "    </tr>\n",
       "    <tr>\n",
       "      <th id=\"T_5f194_level0_row13\" class=\"row_heading level0 row13\" >svm</th>\n",
       "      <td id=\"T_5f194_row13_col0\" class=\"data row13 col0\" >SVM - Linear Kernel</td>\n",
       "      <td id=\"T_5f194_row13_col1\" class=\"data row13 col1\" >0.5734</td>\n",
       "      <td id=\"T_5f194_row13_col2\" class=\"data row13 col2\" >0.0000</td>\n",
       "      <td id=\"T_5f194_row13_col3\" class=\"data row13 col3\" >0.5731</td>\n",
       "      <td id=\"T_5f194_row13_col4\" class=\"data row13 col4\" >0.3059</td>\n",
       "      <td id=\"T_5f194_row13_col5\" class=\"data row13 col5\" >0.3551</td>\n",
       "      <td id=\"T_5f194_row13_col6\" class=\"data row13 col6\" >0.1170</td>\n",
       "      <td id=\"T_5f194_row13_col7\" class=\"data row13 col7\" >0.1579</td>\n",
       "      <td id=\"T_5f194_row13_col8\" class=\"data row13 col8\" >0.0790</td>\n",
       "    </tr>\n",
       "    <tr>\n",
       "      <th id=\"T_5f194_level0_row14\" class=\"row_heading level0 row14\" >qda</th>\n",
       "      <td id=\"T_5f194_row14_col0\" class=\"data row14 col0\" >Quadratic Discriminant Analysis</td>\n",
       "      <td id=\"T_5f194_row14_col1\" class=\"data row14 col1\" >0.5622</td>\n",
       "      <td id=\"T_5f194_row14_col2\" class=\"data row14 col2\" >0.5495</td>\n",
       "      <td id=\"T_5f194_row14_col3\" class=\"data row14 col3\" >0.4899</td>\n",
       "      <td id=\"T_5f194_row14_col4\" class=\"data row14 col4\" >0.4313</td>\n",
       "      <td id=\"T_5f194_row14_col5\" class=\"data row14 col5\" >0.3596</td>\n",
       "      <td id=\"T_5f194_row14_col6\" class=\"data row14 col6\" >0.0854</td>\n",
       "      <td id=\"T_5f194_row14_col7\" class=\"data row14 col7\" >0.0891</td>\n",
       "      <td id=\"T_5f194_row14_col8\" class=\"data row14 col8\" >0.0920</td>\n",
       "    </tr>\n",
       "  </tbody>\n",
       "</table>\n"
      ],
      "text/plain": [
       "<pandas.io.formats.style.Styler at 0x19cf4753dc0>"
      ]
     },
     "metadata": {},
     "output_type": "display_data"
    },
    {
     "data": {
      "application/vnd.jupyter.widget-view+json": {
       "model_id": "",
       "version_major": 2,
       "version_minor": 0
      },
      "text/plain": [
       "Processing:   0%|          | 0/65 [00:00<?, ?it/s]"
      ]
     },
     "metadata": {},
     "output_type": "display_data"
    }
   ],
   "source": [
    "best_model = compare_models()"
   ]
  },
  {
   "cell_type": "code",
   "execution_count": 8,
   "id": "003aa738",
   "metadata": {},
   "outputs": [
    {
     "data": {
      "text/html": [],
      "text/plain": [
       "<IPython.core.display.HTML object>"
      ]
     },
     "metadata": {},
     "output_type": "display_data"
    },
    {
     "data": {
      "text/html": [
       "<style type=\"text/css\">\n",
       "#T_11ddc_row10_col0, #T_11ddc_row10_col1, #T_11ddc_row10_col2, #T_11ddc_row10_col3, #T_11ddc_row10_col4, #T_11ddc_row10_col5, #T_11ddc_row10_col6 {\n",
       "  background: yellow;\n",
       "}\n",
       "</style>\n",
       "<table id=\"T_11ddc\">\n",
       "  <thead>\n",
       "    <tr>\n",
       "      <th class=\"blank level0\" >&nbsp;</th>\n",
       "      <th id=\"T_11ddc_level0_col0\" class=\"col_heading level0 col0\" >Accuracy</th>\n",
       "      <th id=\"T_11ddc_level0_col1\" class=\"col_heading level0 col1\" >AUC</th>\n",
       "      <th id=\"T_11ddc_level0_col2\" class=\"col_heading level0 col2\" >Recall</th>\n",
       "      <th id=\"T_11ddc_level0_col3\" class=\"col_heading level0 col3\" >Prec.</th>\n",
       "      <th id=\"T_11ddc_level0_col4\" class=\"col_heading level0 col4\" >F1</th>\n",
       "      <th id=\"T_11ddc_level0_col5\" class=\"col_heading level0 col5\" >Kappa</th>\n",
       "      <th id=\"T_11ddc_level0_col6\" class=\"col_heading level0 col6\" >MCC</th>\n",
       "    </tr>\n",
       "    <tr>\n",
       "      <th class=\"index_name level0\" >Fold</th>\n",
       "      <th class=\"blank col0\" >&nbsp;</th>\n",
       "      <th class=\"blank col1\" >&nbsp;</th>\n",
       "      <th class=\"blank col2\" >&nbsp;</th>\n",
       "      <th class=\"blank col3\" >&nbsp;</th>\n",
       "      <th class=\"blank col4\" >&nbsp;</th>\n",
       "      <th class=\"blank col5\" >&nbsp;</th>\n",
       "      <th class=\"blank col6\" >&nbsp;</th>\n",
       "    </tr>\n",
       "  </thead>\n",
       "  <tbody>\n",
       "    <tr>\n",
       "      <th id=\"T_11ddc_level0_row0\" class=\"row_heading level0 row0\" >0</th>\n",
       "      <td id=\"T_11ddc_row0_col0\" class=\"data row0 col0\" >0.8669</td>\n",
       "      <td id=\"T_11ddc_row0_col1\" class=\"data row0 col1\" >0.9304</td>\n",
       "      <td id=\"T_11ddc_row0_col2\" class=\"data row0 col2\" >0.7604</td>\n",
       "      <td id=\"T_11ddc_row0_col3\" class=\"data row0 col3\" >0.7849</td>\n",
       "      <td id=\"T_11ddc_row0_col4\" class=\"data row0 col4\" >0.7725</td>\n",
       "      <td id=\"T_11ddc_row0_col5\" class=\"data row0 col5\" >0.6784</td>\n",
       "      <td id=\"T_11ddc_row0_col6\" class=\"data row0 col6\" >0.6786</td>\n",
       "    </tr>\n",
       "    <tr>\n",
       "      <th id=\"T_11ddc_level0_row1\" class=\"row_heading level0 row1\" >1</th>\n",
       "      <td id=\"T_11ddc_row1_col0\" class=\"data row1 col0\" >0.8607</td>\n",
       "      <td id=\"T_11ddc_row1_col1\" class=\"data row1 col1\" >0.9139</td>\n",
       "      <td id=\"T_11ddc_row1_col2\" class=\"data row1 col2\" >0.7188</td>\n",
       "      <td id=\"T_11ddc_row1_col3\" class=\"data row1 col3\" >0.7931</td>\n",
       "      <td id=\"T_11ddc_row1_col4\" class=\"data row1 col4\" >0.7541</td>\n",
       "      <td id=\"T_11ddc_row1_col5\" class=\"data row1 col5\" >0.6572</td>\n",
       "      <td id=\"T_11ddc_row1_col6\" class=\"data row1 col6\" >0.6588</td>\n",
       "    </tr>\n",
       "    <tr>\n",
       "      <th id=\"T_11ddc_level0_row2\" class=\"row_heading level0 row2\" >2</th>\n",
       "      <td id=\"T_11ddc_row2_col0\" class=\"data row2 col0\" >0.8390</td>\n",
       "      <td id=\"T_11ddc_row2_col1\" class=\"data row2 col1\" >0.9169</td>\n",
       "      <td id=\"T_11ddc_row2_col2\" class=\"data row2 col2\" >0.6458</td>\n",
       "      <td id=\"T_11ddc_row2_col3\" class=\"data row2 col3\" >0.7750</td>\n",
       "      <td id=\"T_11ddc_row2_col4\" class=\"data row2 col4\" >0.7045</td>\n",
       "      <td id=\"T_11ddc_row2_col5\" class=\"data row2 col5\" >0.5952</td>\n",
       "      <td id=\"T_11ddc_row2_col6\" class=\"data row2 col6\" >0.5998</td>\n",
       "    </tr>\n",
       "    <tr>\n",
       "      <th id=\"T_11ddc_level0_row3\" class=\"row_heading level0 row3\" >3</th>\n",
       "      <td id=\"T_11ddc_row3_col0\" class=\"data row3 col0\" >0.9009</td>\n",
       "      <td id=\"T_11ddc_row3_col1\" class=\"data row3 col1\" >0.9422</td>\n",
       "      <td id=\"T_11ddc_row3_col2\" class=\"data row3 col2\" >0.8438</td>\n",
       "      <td id=\"T_11ddc_row3_col3\" class=\"data row3 col3\" >0.8265</td>\n",
       "      <td id=\"T_11ddc_row3_col4\" class=\"data row3 col4\" >0.8351</td>\n",
       "      <td id=\"T_11ddc_row3_col5\" class=\"data row3 col5\" >0.7643</td>\n",
       "      <td id=\"T_11ddc_row3_col6\" class=\"data row3 col6\" >0.7643</td>\n",
       "    </tr>\n",
       "    <tr>\n",
       "      <th id=\"T_11ddc_level0_row4\" class=\"row_heading level0 row4\" >4</th>\n",
       "      <td id=\"T_11ddc_row4_col0\" class=\"data row4 col0\" >0.8700</td>\n",
       "      <td id=\"T_11ddc_row4_col1\" class=\"data row4 col1\" >0.9293</td>\n",
       "      <td id=\"T_11ddc_row4_col2\" class=\"data row4 col2\" >0.7320</td>\n",
       "      <td id=\"T_11ddc_row4_col3\" class=\"data row4 col3\" >0.8161</td>\n",
       "      <td id=\"T_11ddc_row4_col4\" class=\"data row4 col4\" >0.7717</td>\n",
       "      <td id=\"T_11ddc_row4_col5\" class=\"data row4 col5\" >0.6812</td>\n",
       "      <td id=\"T_11ddc_row4_col6\" class=\"data row4 col6\" >0.6832</td>\n",
       "    </tr>\n",
       "    <tr>\n",
       "      <th id=\"T_11ddc_level0_row5\" class=\"row_heading level0 row5\" >5</th>\n",
       "      <td id=\"T_11ddc_row5_col0\" class=\"data row5 col0\" >0.8700</td>\n",
       "      <td id=\"T_11ddc_row5_col1\" class=\"data row5 col1\" >0.9244</td>\n",
       "      <td id=\"T_11ddc_row5_col2\" class=\"data row5 col2\" >0.7629</td>\n",
       "      <td id=\"T_11ddc_row5_col3\" class=\"data row5 col3\" >0.7957</td>\n",
       "      <td id=\"T_11ddc_row5_col4\" class=\"data row5 col4\" >0.7789</td>\n",
       "      <td id=\"T_11ddc_row5_col5\" class=\"data row5 col5\" >0.6869</td>\n",
       "      <td id=\"T_11ddc_row5_col6\" class=\"data row5 col6\" >0.6872</td>\n",
       "    </tr>\n",
       "    <tr>\n",
       "      <th id=\"T_11ddc_level0_row6\" class=\"row_heading level0 row6\" >6</th>\n",
       "      <td id=\"T_11ddc_row6_col0\" class=\"data row6 col0\" >0.8669</td>\n",
       "      <td id=\"T_11ddc_row6_col1\" class=\"data row6 col1\" >0.9295</td>\n",
       "      <td id=\"T_11ddc_row6_col2\" class=\"data row6 col2\" >0.7629</td>\n",
       "      <td id=\"T_11ddc_row6_col3\" class=\"data row6 col3\" >0.7872</td>\n",
       "      <td id=\"T_11ddc_row6_col4\" class=\"data row6 col4\" >0.7749</td>\n",
       "      <td id=\"T_11ddc_row6_col5\" class=\"data row6 col5\" >0.6804</td>\n",
       "      <td id=\"T_11ddc_row6_col6\" class=\"data row6 col6\" >0.6806</td>\n",
       "    </tr>\n",
       "    <tr>\n",
       "      <th id=\"T_11ddc_level0_row7\" class=\"row_heading level0 row7\" >7</th>\n",
       "      <td id=\"T_11ddc_row7_col0\" class=\"data row7 col0\" >0.8824</td>\n",
       "      <td id=\"T_11ddc_row7_col1\" class=\"data row7 col1\" >0.9289</td>\n",
       "      <td id=\"T_11ddc_row7_col2\" class=\"data row7 col2\" >0.7629</td>\n",
       "      <td id=\"T_11ddc_row7_col3\" class=\"data row7 col3\" >0.8315</td>\n",
       "      <td id=\"T_11ddc_row7_col4\" class=\"data row7 col4\" >0.7957</td>\n",
       "      <td id=\"T_11ddc_row7_col5\" class=\"data row7 col5\" >0.7133</td>\n",
       "      <td id=\"T_11ddc_row7_col6\" class=\"data row7 col6\" >0.7146</td>\n",
       "    </tr>\n",
       "    <tr>\n",
       "      <th id=\"T_11ddc_level0_row8\" class=\"row_heading level0 row8\" >8</th>\n",
       "      <td id=\"T_11ddc_row8_col0\" class=\"data row8 col0\" >0.8385</td>\n",
       "      <td id=\"T_11ddc_row8_col1\" class=\"data row8 col1\" >0.9095</td>\n",
       "      <td id=\"T_11ddc_row8_col2\" class=\"data row8 col2\" >0.6667</td>\n",
       "      <td id=\"T_11ddc_row8_col3\" class=\"data row8 col3\" >0.7619</td>\n",
       "      <td id=\"T_11ddc_row8_col4\" class=\"data row8 col4\" >0.7111</td>\n",
       "      <td id=\"T_11ddc_row8_col5\" class=\"data row8 col5\" >0.5997</td>\n",
       "      <td id=\"T_11ddc_row8_col6\" class=\"data row8 col6\" >0.6023</td>\n",
       "    </tr>\n",
       "    <tr>\n",
       "      <th id=\"T_11ddc_level0_row9\" class=\"row_heading level0 row9\" >9</th>\n",
       "      <td id=\"T_11ddc_row9_col0\" class=\"data row9 col0\" >0.8416</td>\n",
       "      <td id=\"T_11ddc_row9_col1\" class=\"data row9 col1\" >0.9187</td>\n",
       "      <td id=\"T_11ddc_row9_col2\" class=\"data row9 col2\" >0.6146</td>\n",
       "      <td id=\"T_11ddc_row9_col3\" class=\"data row9 col3\" >0.8082</td>\n",
       "      <td id=\"T_11ddc_row9_col4\" class=\"data row9 col4\" >0.6982</td>\n",
       "      <td id=\"T_11ddc_row9_col5\" class=\"data row9 col5\" >0.5935</td>\n",
       "      <td id=\"T_11ddc_row9_col6\" class=\"data row9 col6\" >0.6038</td>\n",
       "    </tr>\n",
       "    <tr>\n",
       "      <th id=\"T_11ddc_level0_row10\" class=\"row_heading level0 row10\" >Mean</th>\n",
       "      <td id=\"T_11ddc_row10_col0\" class=\"data row10 col0\" >0.8637</td>\n",
       "      <td id=\"T_11ddc_row10_col1\" class=\"data row10 col1\" >0.9243</td>\n",
       "      <td id=\"T_11ddc_row10_col2\" class=\"data row10 col2\" >0.7271</td>\n",
       "      <td id=\"T_11ddc_row10_col3\" class=\"data row10 col3\" >0.7980</td>\n",
       "      <td id=\"T_11ddc_row10_col4\" class=\"data row10 col4\" >0.7597</td>\n",
       "      <td id=\"T_11ddc_row10_col5\" class=\"data row10 col5\" >0.6650</td>\n",
       "      <td id=\"T_11ddc_row10_col6\" class=\"data row10 col6\" >0.6673</td>\n",
       "    </tr>\n",
       "    <tr>\n",
       "      <th id=\"T_11ddc_level0_row11\" class=\"row_heading level0 row11\" >Std</th>\n",
       "      <td id=\"T_11ddc_row11_col0\" class=\"data row11 col0\" >0.0189</td>\n",
       "      <td id=\"T_11ddc_row11_col1\" class=\"data row11 col1\" >0.0092</td>\n",
       "      <td id=\"T_11ddc_row11_col2\" class=\"data row11 col2\" >0.0645</td>\n",
       "      <td id=\"T_11ddc_row11_col3\" class=\"data row11 col3\" >0.0212</td>\n",
       "      <td id=\"T_11ddc_row11_col4\" class=\"data row11 col4\" >0.0413</td>\n",
       "      <td id=\"T_11ddc_row11_col5\" class=\"data row11 col5\" >0.0526</td>\n",
       "      <td id=\"T_11ddc_row11_col6\" class=\"data row11 col6\" >0.0505</td>\n",
       "    </tr>\n",
       "  </tbody>\n",
       "</table>\n"
      ],
      "text/plain": [
       "<pandas.io.formats.style.Styler at 0x19c9cd2a0d0>"
      ]
     },
     "metadata": {},
     "output_type": "display_data"
    },
    {
     "data": {
      "application/vnd.jupyter.widget-view+json": {
       "model_id": "",
       "version_major": 2,
       "version_minor": 0
      },
      "text/plain": [
       "Processing:   0%|          | 0/4 [00:00<?, ?it/s]"
      ]
     },
     "metadata": {},
     "output_type": "display_data"
    }
   ],
   "source": [
    "dt = create_model('gbc')"
   ]
  },
  {
   "cell_type": "code",
   "execution_count": 9,
   "id": "0ea2de28",
   "metadata": {},
   "outputs": [
    {
     "data": {
      "text/html": [],
      "text/plain": [
       "<IPython.core.display.HTML object>"
      ]
     },
     "metadata": {},
     "output_type": "display_data"
    },
    {
     "data": {
      "text/html": [
       "<style type=\"text/css\">\n",
       "#T_edf77_row10_col0, #T_edf77_row10_col1, #T_edf77_row10_col2, #T_edf77_row10_col3, #T_edf77_row10_col4, #T_edf77_row10_col5, #T_edf77_row10_col6 {\n",
       "  background: yellow;\n",
       "}\n",
       "</style>\n",
       "<table id=\"T_edf77\">\n",
       "  <thead>\n",
       "    <tr>\n",
       "      <th class=\"blank level0\" >&nbsp;</th>\n",
       "      <th id=\"T_edf77_level0_col0\" class=\"col_heading level0 col0\" >Accuracy</th>\n",
       "      <th id=\"T_edf77_level0_col1\" class=\"col_heading level0 col1\" >AUC</th>\n",
       "      <th id=\"T_edf77_level0_col2\" class=\"col_heading level0 col2\" >Recall</th>\n",
       "      <th id=\"T_edf77_level0_col3\" class=\"col_heading level0 col3\" >Prec.</th>\n",
       "      <th id=\"T_edf77_level0_col4\" class=\"col_heading level0 col4\" >F1</th>\n",
       "      <th id=\"T_edf77_level0_col5\" class=\"col_heading level0 col5\" >Kappa</th>\n",
       "      <th id=\"T_edf77_level0_col6\" class=\"col_heading level0 col6\" >MCC</th>\n",
       "    </tr>\n",
       "    <tr>\n",
       "      <th class=\"index_name level0\" >Fold</th>\n",
       "      <th class=\"blank col0\" >&nbsp;</th>\n",
       "      <th class=\"blank col1\" >&nbsp;</th>\n",
       "      <th class=\"blank col2\" >&nbsp;</th>\n",
       "      <th class=\"blank col3\" >&nbsp;</th>\n",
       "      <th class=\"blank col4\" >&nbsp;</th>\n",
       "      <th class=\"blank col5\" >&nbsp;</th>\n",
       "      <th class=\"blank col6\" >&nbsp;</th>\n",
       "    </tr>\n",
       "  </thead>\n",
       "  <tbody>\n",
       "    <tr>\n",
       "      <th id=\"T_edf77_level0_row0\" class=\"row_heading level0 row0\" >0</th>\n",
       "      <td id=\"T_edf77_row0_col0\" class=\"data row0 col0\" >0.8793</td>\n",
       "      <td id=\"T_edf77_row0_col1\" class=\"data row0 col1\" >0.9273</td>\n",
       "      <td id=\"T_edf77_row0_col2\" class=\"data row0 col2\" >0.7292</td>\n",
       "      <td id=\"T_edf77_row0_col3\" class=\"data row0 col3\" >0.8434</td>\n",
       "      <td id=\"T_edf77_row0_col4\" class=\"data row0 col4\" >0.7821</td>\n",
       "      <td id=\"T_edf77_row0_col5\" class=\"data row0 col5\" >0.6992</td>\n",
       "      <td id=\"T_edf77_row0_col6\" class=\"data row0 col6\" >0.7028</td>\n",
       "    </tr>\n",
       "    <tr>\n",
       "      <th id=\"T_edf77_level0_row1\" class=\"row_heading level0 row1\" >1</th>\n",
       "      <td id=\"T_edf77_row1_col0\" class=\"data row1 col0\" >0.8669</td>\n",
       "      <td id=\"T_edf77_row1_col1\" class=\"data row1 col1\" >0.9201</td>\n",
       "      <td id=\"T_edf77_row1_col2\" class=\"data row1 col2\" >0.6667</td>\n",
       "      <td id=\"T_edf77_row1_col3\" class=\"data row1 col3\" >0.8533</td>\n",
       "      <td id=\"T_edf77_row1_col4\" class=\"data row1 col4\" >0.7485</td>\n",
       "      <td id=\"T_edf77_row1_col5\" class=\"data row1 col5\" >0.6599</td>\n",
       "      <td id=\"T_edf77_row1_col6\" class=\"data row1 col6\" >0.6692</td>\n",
       "    </tr>\n",
       "    <tr>\n",
       "      <th id=\"T_edf77_level0_row2\" class=\"row_heading level0 row2\" >2</th>\n",
       "      <td id=\"T_edf77_row2_col0\" class=\"data row2 col0\" >0.8297</td>\n",
       "      <td id=\"T_edf77_row2_col1\" class=\"data row2 col1\" >0.9151</td>\n",
       "      <td id=\"T_edf77_row2_col2\" class=\"data row2 col2\" >0.5833</td>\n",
       "      <td id=\"T_edf77_row2_col3\" class=\"data row2 col3\" >0.7887</td>\n",
       "      <td id=\"T_edf77_row2_col4\" class=\"data row2 col4\" >0.6707</td>\n",
       "      <td id=\"T_edf77_row2_col5\" class=\"data row2 col5\" >0.5593</td>\n",
       "      <td id=\"T_edf77_row2_col6\" class=\"data row2 col6\" >0.5709</td>\n",
       "    </tr>\n",
       "    <tr>\n",
       "      <th id=\"T_edf77_level0_row3\" class=\"row_heading level0 row3\" >3</th>\n",
       "      <td id=\"T_edf77_row3_col0\" class=\"data row3 col0\" >0.8885</td>\n",
       "      <td id=\"T_edf77_row3_col1\" class=\"data row3 col1\" >0.9471</td>\n",
       "      <td id=\"T_edf77_row3_col2\" class=\"data row3 col2\" >0.7188</td>\n",
       "      <td id=\"T_edf77_row3_col3\" class=\"data row3 col3\" >0.8846</td>\n",
       "      <td id=\"T_edf77_row3_col4\" class=\"data row3 col4\" >0.7931</td>\n",
       "      <td id=\"T_edf77_row3_col5\" class=\"data row3 col5\" >0.7179</td>\n",
       "      <td id=\"T_edf77_row3_col6\" class=\"data row3 col6\" >0.7252</td>\n",
       "    </tr>\n",
       "    <tr>\n",
       "      <th id=\"T_edf77_level0_row4\" class=\"row_heading level0 row4\" >4</th>\n",
       "      <td id=\"T_edf77_row4_col0\" class=\"data row4 col0\" >0.8669</td>\n",
       "      <td id=\"T_edf77_row4_col1\" class=\"data row4 col1\" >0.9289</td>\n",
       "      <td id=\"T_edf77_row4_col2\" class=\"data row4 col2\" >0.6495</td>\n",
       "      <td id=\"T_edf77_row4_col3\" class=\"data row4 col3\" >0.8750</td>\n",
       "      <td id=\"T_edf77_row4_col4\" class=\"data row4 col4\" >0.7456</td>\n",
       "      <td id=\"T_edf77_row4_col5\" class=\"data row4 col5\" >0.6581</td>\n",
       "      <td id=\"T_edf77_row4_col6\" class=\"data row4 col6\" >0.6715</td>\n",
       "    </tr>\n",
       "    <tr>\n",
       "      <th id=\"T_edf77_level0_row5\" class=\"row_heading level0 row5\" >5</th>\n",
       "      <td id=\"T_edf77_row5_col0\" class=\"data row5 col0\" >0.8638</td>\n",
       "      <td id=\"T_edf77_row5_col1\" class=\"data row5 col1\" >0.9324</td>\n",
       "      <td id=\"T_edf77_row5_col2\" class=\"data row5 col2\" >0.6804</td>\n",
       "      <td id=\"T_edf77_row5_col3\" class=\"data row5 col3\" >0.8354</td>\n",
       "      <td id=\"T_edf77_row5_col4\" class=\"data row5 col4\" >0.7500</td>\n",
       "      <td id=\"T_edf77_row5_col5\" class=\"data row5 col5\" >0.6577</td>\n",
       "      <td id=\"T_edf77_row5_col6\" class=\"data row5 col6\" >0.6643</td>\n",
       "    </tr>\n",
       "    <tr>\n",
       "      <th id=\"T_edf77_level0_row6\" class=\"row_heading level0 row6\" >6</th>\n",
       "      <td id=\"T_edf77_row6_col0\" class=\"data row6 col0\" >0.8452</td>\n",
       "      <td id=\"T_edf77_row6_col1\" class=\"data row6 col1\" >0.9260</td>\n",
       "      <td id=\"T_edf77_row6_col2\" class=\"data row6 col2\" >0.6289</td>\n",
       "      <td id=\"T_edf77_row6_col3\" class=\"data row6 col3\" >0.8133</td>\n",
       "      <td id=\"T_edf77_row6_col4\" class=\"data row6 col4\" >0.7093</td>\n",
       "      <td id=\"T_edf77_row6_col5\" class=\"data row6 col5\" >0.6062</td>\n",
       "      <td id=\"T_edf77_row6_col6\" class=\"data row6 col6\" >0.6155</td>\n",
       "    </tr>\n",
       "    <tr>\n",
       "      <th id=\"T_edf77_level0_row7\" class=\"row_heading level0 row7\" >7</th>\n",
       "      <td id=\"T_edf77_row7_col0\" class=\"data row7 col0\" >0.8700</td>\n",
       "      <td id=\"T_edf77_row7_col1\" class=\"data row7 col1\" >0.9359</td>\n",
       "      <td id=\"T_edf77_row7_col2\" class=\"data row7 col2\" >0.7113</td>\n",
       "      <td id=\"T_edf77_row7_col3\" class=\"data row7 col3\" >0.8313</td>\n",
       "      <td id=\"T_edf77_row7_col4\" class=\"data row7 col4\" >0.7667</td>\n",
       "      <td id=\"T_edf77_row7_col5\" class=\"data row7 col5\" >0.6773</td>\n",
       "      <td id=\"T_edf77_row7_col6\" class=\"data row7 col6\" >0.6812</td>\n",
       "    </tr>\n",
       "    <tr>\n",
       "      <th id=\"T_edf77_level0_row8\" class=\"row_heading level0 row8\" >8</th>\n",
       "      <td id=\"T_edf77_row8_col0\" class=\"data row8 col0\" >0.8634</td>\n",
       "      <td id=\"T_edf77_row8_col1\" class=\"data row8 col1\" >0.9186</td>\n",
       "      <td id=\"T_edf77_row8_col2\" class=\"data row8 col2\" >0.6354</td>\n",
       "      <td id=\"T_edf77_row8_col3\" class=\"data row8 col3\" >0.8714</td>\n",
       "      <td id=\"T_edf77_row8_col4\" class=\"data row8 col4\" >0.7349</td>\n",
       "      <td id=\"T_edf77_row8_col5\" class=\"data row8 col5\" >0.6459</td>\n",
       "      <td id=\"T_edf77_row8_col6\" class=\"data row8 col6\" >0.6605</td>\n",
       "    </tr>\n",
       "    <tr>\n",
       "      <th id=\"T_edf77_level0_row9\" class=\"row_heading level0 row9\" >9</th>\n",
       "      <td id=\"T_edf77_row9_col0\" class=\"data row9 col0\" >0.8416</td>\n",
       "      <td id=\"T_edf77_row9_col1\" class=\"data row9 col1\" >0.9129</td>\n",
       "      <td id=\"T_edf77_row9_col2\" class=\"data row9 col2\" >0.5938</td>\n",
       "      <td id=\"T_edf77_row9_col3\" class=\"data row9 col3\" >0.8261</td>\n",
       "      <td id=\"T_edf77_row9_col4\" class=\"data row9 col4\" >0.6909</td>\n",
       "      <td id=\"T_edf77_row9_col5\" class=\"data row9 col5\" >0.5882</td>\n",
       "      <td id=\"T_edf77_row9_col6\" class=\"data row9 col6\" >0.6027</td>\n",
       "    </tr>\n",
       "    <tr>\n",
       "      <th id=\"T_edf77_level0_row10\" class=\"row_heading level0 row10\" >Mean</th>\n",
       "      <td id=\"T_edf77_row10_col0\" class=\"data row10 col0\" >0.8615</td>\n",
       "      <td id=\"T_edf77_row10_col1\" class=\"data row10 col1\" >0.9264</td>\n",
       "      <td id=\"T_edf77_row10_col2\" class=\"data row10 col2\" >0.6597</td>\n",
       "      <td id=\"T_edf77_row10_col3\" class=\"data row10 col3\" >0.8423</td>\n",
       "      <td id=\"T_edf77_row10_col4\" class=\"data row10 col4\" >0.7392</td>\n",
       "      <td id=\"T_edf77_row10_col5\" class=\"data row10 col5\" >0.6470</td>\n",
       "      <td id=\"T_edf77_row10_col6\" class=\"data row10 col6\" >0.6564</td>\n",
       "    </tr>\n",
       "    <tr>\n",
       "      <th id=\"T_edf77_level0_row11\" class=\"row_heading level0 row11\" >Std</th>\n",
       "      <td id=\"T_edf77_row11_col0\" class=\"data row11 col0\" >0.0169</td>\n",
       "      <td id=\"T_edf77_row11_col1\" class=\"data row11 col1\" >0.0099</td>\n",
       "      <td id=\"T_edf77_row11_col2\" class=\"data row11 col2\" >0.0483</td>\n",
       "      <td id=\"T_edf77_row11_col3\" class=\"data row11 col3\" >0.0282</td>\n",
       "      <td id=\"T_edf77_row11_col4\" class=\"data row11 col4\" >0.0370</td>\n",
       "      <td id=\"T_edf77_row11_col5\" class=\"data row11 col5\" >0.0468</td>\n",
       "      <td id=\"T_edf77_row11_col6\" class=\"data row11 col6\" >0.0445</td>\n",
       "    </tr>\n",
       "  </tbody>\n",
       "</table>\n"
      ],
      "text/plain": [
       "<pandas.io.formats.style.Styler at 0x19c9cd2d400>"
      ]
     },
     "metadata": {},
     "output_type": "display_data"
    },
    {
     "data": {
      "application/vnd.jupyter.widget-view+json": {
       "model_id": "",
       "version_major": 2,
       "version_minor": 0
      },
      "text/plain": [
       "Processing:   0%|          | 0/7 [00:00<?, ?it/s]"
      ]
     },
     "metadata": {},
     "output_type": "display_data"
    },
    {
     "name": "stdout",
     "output_type": "stream",
     "text": [
      "Fitting 10 folds for each of 10 candidates, totalling 100 fits\n",
      "Original model was better than the tuned model, hence it will be returned. NOTE: The display metrics are for the tuned model (not the original one).\n"
     ]
    }
   ],
   "source": [
    "tuned_dt = tune_model(dt)"
   ]
  },
  {
   "cell_type": "code",
   "execution_count": 10,
   "id": "07e3ed3d",
   "metadata": {},
   "outputs": [
    {
     "data": {
      "text/html": [],
      "text/plain": [
       "<IPython.core.display.HTML object>"
      ]
     },
     "metadata": {},
     "output_type": "display_data"
    },
    {
     "data": {
      "image/png": "[encoded data removed]",
      "text/plain": [
       "<Figure size 432x288 with 1 Axes>"
      ]
     },
     "metadata": {
      "needs_background": "light"
     },
     "output_type": "display_data"
    }
   ],
   "source": [
    "plot_model(tuned_dt, plot = 'auc')"
   ]
  },
  {
   "cell_type": "code",
   "execution_count": 11,
   "id": "f5e8f2eb",
   "metadata": {},
   "outputs": [
    {
     "data": {
      "text/html": [],
      "text/plain": [
       "<IPython.core.display.HTML object>"
      ]
     },
     "metadata": {},
     "output_type": "display_data"
    },
    {
     "data": {
      "image/png": "[encoded data removed]",
      "text/plain": [
       "<Figure size 432x288 with 1 Axes>"
      ]
     },
     "metadata": {
      "needs_background": "light"
     },
     "output_type": "display_data"
    }
   ],
   "source": [
    "plot_model(tuned_dt, plot = 'pr')"
   ]
  },
  {
   "cell_type": "code",
   "execution_count": 12,
   "id": "9f157617",
   "metadata": {},
   "outputs": [
    {
     "data": {
      "text/html": [],
      "text/plain": [
       "<IPython.core.display.HTML object>"
      ]
     },
     "metadata": {},
     "output_type": "display_data"
    },
    {
     "data": {
      "image/png": "[encoded data removed]",
      "text/plain": [
       "<Figure size 800x500 with 1 Axes>"
      ]
     },
     "metadata": {
      "needs_background": "light"
     },
     "output_type": "display_data"
    }
   ],
   "source": [
    "plot_model(tuned_dt, plot='feature')"
   ]
  },
  {
   "cell_type": "code",
   "execution_count": 13,
   "id": "71748fbc",
   "metadata": {},
   "outputs": [
    {
     "data": {
      "text/html": [],
      "text/plain": [
       "<IPython.core.display.HTML object>"
      ]
     },
     "metadata": {},
     "output_type": "display_data"
    },
    {
     "data": {
      "image/png": "[encoded data removed]",
      "text/plain": [
       "<Figure size 432x288 with 1 Axes>"
      ]
     },
     "metadata": {
      "needs_background": "light"
     },
     "output_type": "display_data"
    }
   ],
   "source": [
    "plot_model(tuned_dt, plot = 'confusion_matrix')"
   ]
  },
  {
   "cell_type": "code",
   "execution_count": 14,
   "id": "2427d555",
   "metadata": {},
   "outputs": [
    {
     "data": {
      "application/vnd.jupyter.widget-view+json": {
       "model_id": "af20b1c152b844de96f5ace6e0ecf30a",
       "version_major": 2,
       "version_minor": 0
      },
      "text/plain": [
       "interactive(children=(ToggleButtons(description='Plot Type:', icons=('',), options=(('Pipeline Plot', 'pipelin…"
      ]
     },
     "metadata": {},
     "output_type": "display_data"
    }
   ],
   "source": [
    "evaluate_model(tuned_dt)"
   ]
  },
  {
   "cell_type": "code",
   "execution_count": 15,
   "id": "fa1590b0",
   "metadata": {},
   "outputs": [
    {
     "data": {
      "text/html": [
       "<style type=\"text/css\">\n",
       "</style>\n",
       "<table id=\"T_ac56c\">\n",
       "  <thead>\n",
       "    <tr>\n",
       "      <th class=\"blank level0\" >&nbsp;</th>\n",
       "      <th id=\"T_ac56c_level0_col0\" class=\"col_heading level0 col0\" >Model</th>\n",
       "      <th id=\"T_ac56c_level0_col1\" class=\"col_heading level0 col1\" >Accuracy</th>\n",
       "      <th id=\"T_ac56c_level0_col2\" class=\"col_heading level0 col2\" >AUC</th>\n",
       "      <th id=\"T_ac56c_level0_col3\" class=\"col_heading level0 col3\" >Recall</th>\n",
       "      <th id=\"T_ac56c_level0_col4\" class=\"col_heading level0 col4\" >Prec.</th>\n",
       "      <th id=\"T_ac56c_level0_col5\" class=\"col_heading level0 col5\" >F1</th>\n",
       "      <th id=\"T_ac56c_level0_col6\" class=\"col_heading level0 col6\" >Kappa</th>\n",
       "      <th id=\"T_ac56c_level0_col7\" class=\"col_heading level0 col7\" >MCC</th>\n",
       "    </tr>\n",
       "  </thead>\n",
       "  <tbody>\n",
       "    <tr>\n",
       "      <th id=\"T_ac56c_level0_row0\" class=\"row_heading level0 row0\" >0</th>\n",
       "      <td id=\"T_ac56c_row0_col0\" class=\"data row0 col0\" >Gradient Boosting Classifier</td>\n",
       "      <td id=\"T_ac56c_row0_col1\" class=\"data row0 col1\" >0.8663</td>\n",
       "      <td id=\"T_ac56c_row0_col2\" class=\"data row0 col2\" >0.9271</td>\n",
       "      <td id=\"T_ac56c_row0_col3\" class=\"data row0 col3\" >0.7579</td>\n",
       "      <td id=\"T_ac56c_row0_col4\" class=\"data row0 col4\" >0.7864</td>\n",
       "      <td id=\"T_ac56c_row0_col5\" class=\"data row0 col5\" >0.7719</td>\n",
       "      <td id=\"T_ac56c_row0_col6\" class=\"data row0 col6\" >0.6774</td>\n",
       "      <td id=\"T_ac56c_row0_col7\" class=\"data row0 col7\" >0.6776</td>\n",
       "    </tr>\n",
       "  </tbody>\n",
       "</table>\n"
      ],
      "text/plain": [
       "<pandas.io.formats.style.Styler at 0x19c9cceb160>"
      ]
     },
     "metadata": {},
     "output_type": "display_data"
    }
   ],
   "source": [
    "predict_model(tuned_dt);"
   ]
  },
  {
   "cell_type": "code",
   "execution_count": null,
   "id": "3b0d39f3",
   "metadata": {},
   "outputs": [],
   "source": []
  },
  {
   "cell_type": "code",
   "execution_count": null,
   "id": "85e96e1c",
   "metadata": {},
   "outputs": [],
   "source": []
  },
  {
   "cell_type": "code",
   "execution_count": null,
   "id": "81966dd0",
   "metadata": {},
   "outputs": [],
   "source": []
  },
  {
   "cell_type": "code",
   "execution_count": null,
   "id": "c427c6d0",
   "metadata": {},
   "outputs": [],
   "source": []
  },
  {
   "cell_type": "code",
   "execution_count": null,
   "id": "6129d2f9",
   "metadata": {},
   "outputs": [],
   "source": []
  },
  {
   "cell_type": "code",
   "execution_count": null,
   "id": "e3e7f2b4",
   "metadata": {},
   "outputs": [],
   "source": []
  },
  {
   "cell_type": "code",
   "execution_count": null,
   "id": "7a709157",
   "metadata": {},
   "outputs": [],
   "source": []
  },
  {
   "cell_type": "code",
   "execution_count": null,
   "id": "7582a0cb",
   "metadata": {},
   "outputs": [],
   "source": []
  },
  {
   "cell_type": "code",
   "execution_count": null,
   "id": "19e1b459",
   "metadata": {},
   "outputs": [],
   "source": []
  },
  {
   "cell_type": "code",
   "execution_count": null,
   "id": "4f126acb",
   "metadata": {},
   "outputs": [],
   "source": []
  },
  {
   "cell_type": "code",
   "execution_count": null,
   "id": "18df62dd",
   "metadata": {},
   "outputs": [],
   "source": []
  }
 ],
 "metadata": {
  "kernelspec": {
   "display_name": "Python 3 (ipykernel)",
   "language": "python",
   "name": "python3"
  },
  "language_info": {
   "codemirror_mode": {
    "name": "ipython",
    "version": 3
   },
   "file_extension": ".py",
   "mimetype": "text/x-python",
   "name": "python",
   "nbconvert_exporter": "python",
   "pygments_lexer": "ipython3",
   "version": "3.9.12"
  }
 },
 "nbformat": 4,
 "nbformat_minor": 5
}
